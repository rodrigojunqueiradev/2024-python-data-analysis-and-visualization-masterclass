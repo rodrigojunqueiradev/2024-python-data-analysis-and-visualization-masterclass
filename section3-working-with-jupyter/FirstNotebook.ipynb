{
 "cells": [
  {
   "cell_type": "markdown",
   "id": "370cbbe0-d246-4843-bbf7-9b0c26f067b9",
   "metadata": {},
   "source": [
    "# Notebook Basics\n",
    "\n",
    "## Level 2 heading\n",
    "\n",
    "* bullet 1\n",
    "* bullet 2\n"
   ]
  },
  {
   "cell_type": "code",
   "execution_count": 7,
   "id": "05a66625-2411-4faf-b7ca-0f080dab4299",
   "metadata": {},
   "outputs": [
    {
     "data": {
      "text/plain": [
       "6.428571428571429"
      ]
     },
     "execution_count": 7,
     "metadata": {},
     "output_type": "execute_result"
    }
   ],
   "source": [
    "45 / 7 "
   ]
  },
  {
   "cell_type": "code",
   "execution_count": 8,
   "id": "7cb7ffa7-48c0-4d4e-9036-e657c0ccf2dc",
   "metadata": {},
   "outputs": [
    {
     "name": "stdout",
     "output_type": "stream",
     "text": [
      "6.43\n"
     ]
    }
   ],
   "source": [
    "print(f\"{45/7:.2f}\")"
   ]
  },
  {
   "cell_type": "code",
   "execution_count": 9,
   "id": "3296f42d-aaf5-4f9d-b6e5-0906565e9669",
   "metadata": {},
   "outputs": [
    {
     "name": "stdout",
     "output_type": "stream",
     "text": [
      "Hello world\n"
     ]
    }
   ],
   "source": [
    "print(\"Hello world\")"
   ]
  },
  {
   "cell_type": "code",
   "execution_count": 10,
   "id": "62e45f19-0edf-43a1-9afd-8d6969b03010",
   "metadata": {},
   "outputs": [
    {
     "data": {
      "text/plain": [
       "'rsrsrsrsrsrsrsrsrsrsrsrsrsrsrsrsrsrsrsrsrsrsrsrsrsrsrsrsrsrsrsrsrsrsrsrsrsrsrsrsrsrsrsrsrsrsrsrsrsrsrsrsrsrsrsrsrsrsrsrsrsrsrsrsrsrsrsrsrsrsrsrsrsrsrsrsrsrsrsrsrsrsrsrsrsrsrsrsrsrsrsrsrsrsrsrsrsrsrsrs'"
      ]
     },
     "execution_count": 10,
     "metadata": {},
     "output_type": "execute_result"
    }
   ],
   "source": [
    "\"rs\" * 100"
   ]
  },
  {
   "cell_type": "code",
   "execution_count": 11,
   "id": "5a23a441-cbd4-4e5a-91b2-8a6a99e2da05",
   "metadata": {},
   "outputs": [
    {
     "name": "stdout",
     "output_type": "stream",
     "text": [
      "hahahahahahahahahahahahahahahahahahahahahahahahahahahahahahahahahahahahahahahahahahahahahahahahahahahahahahahahahahahahahahahahahahahahahahahahahahahahahahahahahahahahahahahahahahahahahahahahahahahahahahahahahahahahahahahahahahahahahahahahahahahahahahahahahahahahahahahahahahahahahahahahahahahahahahahahahahahahahahahahahahahahahahahahahahahahahahahahahahahahahahahahahahahahahahahahahahahahahahahahahahahahahahahahahahahahahahahahahahahahahahahahahahahahahahahahahahahahahahahahahahahahahahahahahahahahahahahahahahahahahahahahahahahahahahahahahahahahahahahahahahahahahahahahahahahahahahahahahahahahahahahahahahahahahahahahahahahahahahahahahahahahahahahahahahahahahahahahahahahahahahahahahahahahahahahahahahahahahahahahahahahahahahahahahahahahahahahahahahahahahahahahahahahahahahahahahahahahahahahahahahahahahahahahahahahahahahahahahahahahahahahahahahahahahahahahahahahahahahahahahahahahahahahahahahahahahahahahahahahahahahahahahahahahahahahahahahahahahahahahahahahahahahahahahahahahahahahahahahahahahahahahahahahahahahahahahahahahahahahahahahahahahahahahahahahahahahahahahahahahahahahahahahahahahahahahahahahahahahahahahahahahahahahahahahahahahahahahahahahahahahahahahahahahahahahahahahahahahahahahahahahahahahahahahahahahahahahahahahahahahahahahahahahahahahahahahahahahahahahahahahahahahahahahahahahahahahahahahahahahahahahahahahahahahahahahahahahahahahahahahahahahahahahahahahahahahahahahahahahahahahahahahahahahahahahahahahahahahahahahahahahahahahahahahahahahahahahahahahahahahahahahahahahahahahahahahahahahahahahahahahahahahahahahahahahahahahahahahahahahahahahahahahahahahahahahahahahahahahahahahahahahahahahahahahahahahahahahahahahahahahahahahahahahahahahahahahahahahahahahahahahahahahahahahahahahahahahahahahahahahahahahahahahahahahahahahahahahahahahahahahahahahahahahahahahahahahahahahahahahahahahahahahahahahahahahahahahahahahahahahahahahahahahahahahahahahahahahahahahahahahahahahahahahahahahahahahahahahahahahahahahahahahahahahahahahahahahahahahahahahahahahahahahahahahahahahahahahahahahaha\n"
     ]
    }
   ],
   "source": [
    "print(\"ha\" * 1000)"
   ]
  },
  {
   "cell_type": "code",
   "execution_count": 12,
   "id": "173425d8-e80b-4862-b5ea-485993e39d04",
   "metadata": {},
   "outputs": [],
   "source": [
    "animal = \"cow\""
   ]
  },
  {
   "cell_type": "code",
   "execution_count": 13,
   "id": "bed18b29-c217-4076-9a1d-fc2f2b715bac",
   "metadata": {},
   "outputs": [
    {
     "data": {
      "text/plain": [
       "'cowcow'"
      ]
     },
     "execution_count": 13,
     "metadata": {},
     "output_type": "execute_result"
    }
   ],
   "source": [
    "animal * 2"
   ]
  },
  {
   "cell_type": "code",
   "execution_count": 14,
   "id": "04772da7-6917-4709-ba46-feb749d0d9bf",
   "metadata": {},
   "outputs": [],
   "source": [
    "import statistics"
   ]
  },
  {
   "cell_type": "code",
   "execution_count": 17,
   "id": "c4360147-922f-4e14-9ac1-8280130fc892",
   "metadata": {},
   "outputs": [
    {
     "data": {
      "text/plain": [
       "<module 'statistics' from 'C:\\\\Users\\\\rodrigo.junqueira\\\\AppData\\\\Local\\\\anaconda3\\\\Lib\\\\statistics.py'>"
      ]
     },
     "execution_count": 17,
     "metadata": {},
     "output_type": "execute_result"
    }
   ],
   "source": [
    "# Colocar o mouse sobre ou apenas escrever e apertar SHIFT + TAB para ver a doc\n",
    "statistics"
   ]
  },
  {
   "cell_type": "code",
   "execution_count": 16,
   "id": "c1c5e0e3-a662-45bf-a0e3-e7faf77d8248",
   "metadata": {},
   "outputs": [
    {
     "data": {
      "text/plain": [
       "2.625"
      ]
     },
     "execution_count": 16,
     "metadata": {},
     "output_type": "execute_result"
    }
   ],
   "source": [
    "statistics.mean([-1.0, 2.5, 3.25, 5.75])"
   ]
  },
  {
   "cell_type": "code",
   "execution_count": null,
   "id": "5f782b15-8e0b-47a3-bc00-cd4f93c946f1",
   "metadata": {},
   "outputs": [],
   "source": [
    "statistics"
   ]
  }
 ],
 "metadata": {
  "kernelspec": {
   "display_name": "Python 3 (ipykernel)",
   "language": "python",
   "name": "python3"
  },
  "language_info": {
   "codemirror_mode": {
    "name": "ipython",
    "version": 3
   },
   "file_extension": ".py",
   "mimetype": "text/x-python",
   "name": "python",
   "nbconvert_exporter": "python",
   "pygments_lexer": "ipython3",
   "version": "3.11.7"
  }
 },
 "nbformat": 4,
 "nbformat_minor": 5
}
