{
 "cells": [
  {
   "cell_type": "markdown",
   "id": "5c1b8c92-ab62-4049-9f33-3cf9d85ae4b1",
   "metadata": {},
   "source": [
    "# Pandas\n",
    "\n",
    "Pandas is a fast, powerful, flexible and easy to use open-source _data analysis and manipulation tool_, uilt on top of the Python programming language.\n",
    "\n",
    "pandas.pydata.org/docs/"
   ]
  },
  {
   "cell_type": "markdown",
   "id": "1a4998c4-f694-404e-9d94-d4fb94ede66c",
   "metadata": {},
   "source": [
    "## Datasets\n",
    "Textual datasets are can be stored in many different formats including:\n",
    "- csv\n",
    "- xlsx\n",
    "- sql\n",
    "- json\n",
    "- xml\n",
    "\n",
    "### CSV\n",
    "Comma-Separated Values"
   ]
  },
  {
   "cell_type": "markdown",
   "id": "73cab263-bb89-4775-bb1a-ff6f51433b59",
   "metadata": {},
   "source": [
    "## Dataframe\n",
    "Two-dimensional, size-mutable, potentially heterogeneous tabular data structure with labeled axes"
   ]
  },
  {
   "cell_type": "code",
   "execution_count": null,
   "id": "7a7da3de-f1d1-4bed-a344-564069bab284",
   "metadata": {},
   "outputs": [],
   "source": []
  }
 ],
 "metadata": {
  "kernelspec": {
   "display_name": "Python 3 (ipykernel)",
   "language": "python",
   "name": "python3"
  },
  "language_info": {
   "codemirror_mode": {
    "name": "ipython",
    "version": 3
   },
   "file_extension": ".py",
   "mimetype": "text/x-python",
   "name": "python",
   "nbconvert_exporter": "python",
   "pygments_lexer": "ipython3",
   "version": "3.11.7"
  }
 },
 "nbformat": 4,
 "nbformat_minor": 5
}
